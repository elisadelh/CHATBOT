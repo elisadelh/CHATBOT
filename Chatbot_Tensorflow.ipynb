{
  "cells": [
    {
      "cell_type": "markdown",
      "metadata": {
        "id": "ecgo7NJ5kvWt"
      },
      "source": [
        "# MODELE DE CHATBOT"
      ]
    },
    {
      "cell_type": "markdown",
      "metadata": {
        "id": "o3vpLDczikmy"
      },
      "source": [
        "Modèle de chatbot simple ne s'appuyant que sur des couches entièrement connectées afin d'être éxécutable sur la STM32\n",
        "\n",
        "Réalisé par Elisa Delhommé\n",
        "\n",
        "Source: https://towardsdatascience.com/a-simple-chatbot-in-python-with-deep-learning-3e8669997758\n",
        "| https://moncoachdata.com/blog/construire-un-chatbot-en-python/"
      ]
    },
    {
      "cell_type": "markdown",
      "metadata": {
        "id": "sWdpGJgZngow"
      },
      "source": [
        ""
      ]
    },
    {
      "cell_type": "markdown",
      "metadata": {
        "id": "_stzVuyLk5Ob"
      },
      "source": [
        "Les versions suivantes sont nécessaires pour être compatibles avec la version de CubeAI utilisée ultérieurement (v 5.1.2)."
      ]
    },
    {
      "cell_type": "code",
      "execution_count": null,
      "metadata": {
        "colab": {
          "base_uri": "https://localhost:8080/"
        },
        "id": "cz8sdkWtrqBD",
        "outputId": "9880f582-d0f6-4377-916c-2412c75e3fff"
      },
      "outputs": [
        {
          "output_type": "stream",
          "name": "stdout",
          "text": [
            "Requirement already satisfied: q in /usr/local/lib/python3.7/dist-packages (2.6)\n",
            "Requirement already satisfied: tensorflow==2.0.0 in /usr/local/lib/python3.7/dist-packages (2.0.0)\n",
            "Requirement already satisfied: absl-py>=0.7.0 in /usr/local/lib/python3.7/dist-packages (from tensorflow==2.0.0) (0.12.0)\n",
            "Requirement already satisfied: protobuf>=3.6.1 in /usr/local/lib/python3.7/dist-packages (from tensorflow==2.0.0) (3.17.3)\n",
            "Requirement already satisfied: keras-applications>=1.0.8 in /usr/local/lib/python3.7/dist-packages (from tensorflow==2.0.0) (1.0.8)\n",
            "Requirement already satisfied: opt-einsum>=2.3.2 in /usr/local/lib/python3.7/dist-packages (from tensorflow==2.0.0) (3.3.0)\n",
            "Requirement already satisfied: tensorboard<2.1.0,>=2.0.0 in /usr/local/lib/python3.7/dist-packages (from tensorflow==2.0.0) (2.0.2)\n",
            "Requirement already satisfied: six>=1.10.0 in /usr/local/lib/python3.7/dist-packages (from tensorflow==2.0.0) (1.15.0)\n",
            "Requirement already satisfied: numpy<2.0,>=1.16.0 in /usr/local/lib/python3.7/dist-packages (from tensorflow==2.0.0) (1.19.5)\n",
            "Requirement already satisfied: wrapt>=1.11.1 in /usr/local/lib/python3.7/dist-packages (from tensorflow==2.0.0) (1.13.3)\n",
            "Requirement already satisfied: google-pasta>=0.1.6 in /usr/local/lib/python3.7/dist-packages (from tensorflow==2.0.0) (0.2.0)\n",
            "Requirement already satisfied: grpcio>=1.8.6 in /usr/local/lib/python3.7/dist-packages (from tensorflow==2.0.0) (1.43.0)\n",
            "Requirement already satisfied: tensorflow-estimator<2.1.0,>=2.0.0 in /usr/local/lib/python3.7/dist-packages (from tensorflow==2.0.0) (2.0.1)\n",
            "Requirement already satisfied: termcolor>=1.1.0 in /usr/local/lib/python3.7/dist-packages (from tensorflow==2.0.0) (1.1.0)\n",
            "Requirement already satisfied: gast==0.2.2 in /usr/local/lib/python3.7/dist-packages (from tensorflow==2.0.0) (0.2.2)\n",
            "Requirement already satisfied: wheel>=0.26 in /usr/local/lib/python3.7/dist-packages (from tensorflow==2.0.0) (0.37.1)\n",
            "Requirement already satisfied: astor>=0.6.0 in /usr/local/lib/python3.7/dist-packages (from tensorflow==2.0.0) (0.8.1)\n",
            "Requirement already satisfied: keras-preprocessing>=1.0.5 in /usr/local/lib/python3.7/dist-packages (from tensorflow==2.0.0) (1.1.2)\n",
            "Requirement already satisfied: h5py in /usr/local/lib/python3.7/dist-packages (from keras-applications>=1.0.8->tensorflow==2.0.0) (3.1.0)\n",
            "Requirement already satisfied: setuptools>=41.0.0 in /usr/local/lib/python3.7/dist-packages (from tensorboard<2.1.0,>=2.0.0->tensorflow==2.0.0) (57.4.0)\n",
            "Requirement already satisfied: google-auth-oauthlib<0.5,>=0.4.1 in /usr/local/lib/python3.7/dist-packages (from tensorboard<2.1.0,>=2.0.0->tensorflow==2.0.0) (0.4.6)\n",
            "Requirement already satisfied: werkzeug>=0.11.15 in /usr/local/lib/python3.7/dist-packages (from tensorboard<2.1.0,>=2.0.0->tensorflow==2.0.0) (1.0.1)\n",
            "Requirement already satisfied: requests<3,>=2.21.0 in /usr/local/lib/python3.7/dist-packages (from tensorboard<2.1.0,>=2.0.0->tensorflow==2.0.0) (2.23.0)\n",
            "Requirement already satisfied: markdown>=2.6.8 in /usr/local/lib/python3.7/dist-packages (from tensorboard<2.1.0,>=2.0.0->tensorflow==2.0.0) (3.3.6)\n",
            "Requirement already satisfied: google-auth<2,>=1.6.3 in /usr/local/lib/python3.7/dist-packages (from tensorboard<2.1.0,>=2.0.0->tensorflow==2.0.0) (1.35.0)\n",
            "Requirement already satisfied: cachetools<5.0,>=2.0.0 in /usr/local/lib/python3.7/dist-packages (from google-auth<2,>=1.6.3->tensorboard<2.1.0,>=2.0.0->tensorflow==2.0.0) (4.2.4)\n",
            "Requirement already satisfied: pyasn1-modules>=0.2.1 in /usr/local/lib/python3.7/dist-packages (from google-auth<2,>=1.6.3->tensorboard<2.1.0,>=2.0.0->tensorflow==2.0.0) (0.2.8)\n",
            "Requirement already satisfied: rsa<5,>=3.1.4 in /usr/local/lib/python3.7/dist-packages (from google-auth<2,>=1.6.3->tensorboard<2.1.0,>=2.0.0->tensorflow==2.0.0) (4.8)\n",
            "Requirement already satisfied: requests-oauthlib>=0.7.0 in /usr/local/lib/python3.7/dist-packages (from google-auth-oauthlib<0.5,>=0.4.1->tensorboard<2.1.0,>=2.0.0->tensorflow==2.0.0) (1.3.0)\n",
            "Requirement already satisfied: importlib-metadata>=4.4 in /usr/local/lib/python3.7/dist-packages (from markdown>=2.6.8->tensorboard<2.1.0,>=2.0.0->tensorflow==2.0.0) (4.10.0)\n",
            "Requirement already satisfied: zipp>=0.5 in /usr/local/lib/python3.7/dist-packages (from importlib-metadata>=4.4->markdown>=2.6.8->tensorboard<2.1.0,>=2.0.0->tensorflow==2.0.0) (3.7.0)\n",
            "Requirement already satisfied: typing-extensions>=3.6.4 in /usr/local/lib/python3.7/dist-packages (from importlib-metadata>=4.4->markdown>=2.6.8->tensorboard<2.1.0,>=2.0.0->tensorflow==2.0.0) (3.10.0.2)\n",
            "Requirement already satisfied: pyasn1<0.5.0,>=0.4.6 in /usr/local/lib/python3.7/dist-packages (from pyasn1-modules>=0.2.1->google-auth<2,>=1.6.3->tensorboard<2.1.0,>=2.0.0->tensorflow==2.0.0) (0.4.8)\n",
            "Requirement already satisfied: urllib3!=1.25.0,!=1.25.1,<1.26,>=1.21.1 in /usr/local/lib/python3.7/dist-packages (from requests<3,>=2.21.0->tensorboard<2.1.0,>=2.0.0->tensorflow==2.0.0) (1.24.3)\n",
            "Requirement already satisfied: certifi>=2017.4.17 in /usr/local/lib/python3.7/dist-packages (from requests<3,>=2.21.0->tensorboard<2.1.0,>=2.0.0->tensorflow==2.0.0) (2021.10.8)\n",
            "Requirement already satisfied: idna<3,>=2.5 in /usr/local/lib/python3.7/dist-packages (from requests<3,>=2.21.0->tensorboard<2.1.0,>=2.0.0->tensorflow==2.0.0) (2.10)\n",
            "Requirement already satisfied: chardet<4,>=3.0.2 in /usr/local/lib/python3.7/dist-packages (from requests<3,>=2.21.0->tensorboard<2.1.0,>=2.0.0->tensorflow==2.0.0) (3.0.4)\n",
            "Requirement already satisfied: oauthlib>=3.0.0 in /usr/local/lib/python3.7/dist-packages (from requests-oauthlib>=0.7.0->google-auth-oauthlib<0.5,>=0.4.1->tensorboard<2.1.0,>=2.0.0->tensorflow==2.0.0) (3.1.1)\n",
            "Requirement already satisfied: cached-property in /usr/local/lib/python3.7/dist-packages (from h5py->keras-applications>=1.0.8->tensorflow==2.0.0) (1.5.2)\n",
            "Requirement already satisfied: q in /usr/local/lib/python3.7/dist-packages (2.6)\n",
            "Requirement already satisfied: keras==2.3.1 in /usr/local/lib/python3.7/dist-packages (2.3.1)\n",
            "Requirement already satisfied: six>=1.9.0 in /usr/local/lib/python3.7/dist-packages (from keras==2.3.1) (1.15.0)\n",
            "Requirement already satisfied: pyyaml in /usr/local/lib/python3.7/dist-packages (from keras==2.3.1) (3.13)\n",
            "Requirement already satisfied: keras-applications>=1.0.6 in /usr/local/lib/python3.7/dist-packages (from keras==2.3.1) (1.0.8)\n",
            "Requirement already satisfied: scipy>=0.14 in /usr/local/lib/python3.7/dist-packages (from keras==2.3.1) (1.4.1)\n",
            "Requirement already satisfied: numpy>=1.9.1 in /usr/local/lib/python3.7/dist-packages (from keras==2.3.1) (1.19.5)\n",
            "Requirement already satisfied: keras-preprocessing>=1.0.5 in /usr/local/lib/python3.7/dist-packages (from keras==2.3.1) (1.1.2)\n",
            "Requirement already satisfied: h5py in /usr/local/lib/python3.7/dist-packages (from keras==2.3.1) (3.1.0)\n",
            "Requirement already satisfied: cached-property in /usr/local/lib/python3.7/dist-packages (from h5py->keras==2.3.1) (1.5.2)\n"
          ]
        }
      ],
      "source": [
        "!pip install q tensorflow==2.0.0\n",
        "!pip install q keras==2.3.1"
      ]
    },
    {
      "cell_type": "markdown",
      "metadata": {
        "id": "FksCeu3olTPk"
      },
      "source": [
        "L'absence de couches d'Embedding (non supportée par la version de CubeAI employée, ce qui empêche par ailleurs l'utilisation de couches récurrentes telles que les LSTM ou RNN) nous mène à créer un dictionnaire afin de prédire la réponse au message porté par l'utilisateur.\n",
        "\n",
        "La création d'un dictionnaire a également l'avantage d'avoir la possibilité de l'enrichir avec l'application recherchée et ainsi d'obtenir des réponses davantages ciblées.\n",
        "\n",
        "Ici, on peut par exemple prévoir le cas où l'utilisateur demanderait l'emplacement de la machine à café par exemple."
      ]
    },
    {
      "cell_type": "code",
      "execution_count": null,
      "metadata": {
        "id": "AU7uk9FWotsz"
      },
      "outputs": [],
      "source": [
        "# utilisation d'un dictionnaire pour représenter un fichier JSON d'intentions\n",
        "data = {\"intents\": [\n",
        "             {\"tag\": \"greeting\",\n",
        "              \"patterns\": [\"Hello\", \"La forme?\", \"yo\", \"Salut\", \"ça roule?\"],\n",
        "              \"responses\": [\"Salut à toi!\", \"Hello\", \"Comment vas tu?\", \"Salutations!\", \"Enchanté\"],\n",
        "             },\n",
        "             {\"tag\": \"age\",\n",
        "              \"patterns\": [\"Quel âge as-tu?\", \"C'est quand ton anniversaire?\", \"Quand es-tu né?\"],\n",
        "              \"responses\": [\"J'ai 25 ans\", \"Je suis né en 1996\", \"Ma date d'anniversaire est le 3 juillet et je suis né en 1996\", \"03/07/1996\"]\n",
        "             },\n",
        "             {\"tag\": \"date\",\n",
        "              \"patterns\": [\"Que fais-tu ce week-end?\",\n",
        "\"Tu veux qu'on fasse un truc ensemble?\", \"Quels sont tes plans pour cette semaine\"],\n",
        "              \"responses\": [\"Je suis libre toute la semaine\", \"Je n'ai rien de prévu\", \"Je ne suis pas occupé\"]\n",
        "             },\n",
        "             {\"tag\": \"name\",\n",
        "              \"patterns\": [\"Quel est ton prénom?\", \"Comment tu t'appelles?\", \"Qui es-tu?\"],\n",
        "              \"responses\": [\"Mon prénom est Miki\", \"Je suis Miki\", \"Miki\"]\n",
        "             },\n",
        "             {\"tag\": \"goodbye\",\n",
        "              \"patterns\": [ \"bye\", \"Salut\", \"see ya\", \"adios\", \"cya\"],\n",
        "              \"responses\": [\"C'était sympa de te parler\", \"à plus tard\", \"On se reparle très vite!\"]\n",
        "             },\n",
        "             {\"tag\": \"object_location\",\n",
        "              \"patterns\": [ \"Where is the coffee maker?\", \"Où est la cafetière?\"],\n",
        "              \"responses\": [\"On the kitchen table\",\"Sur la table de la cuisine\"]\n",
        "             }\n",
        "]}"
      ]
    },
    {
      "cell_type": "code",
      "execution_count": null,
      "metadata": {
        "colab": {
          "base_uri": "https://localhost:8080/"
        },
        "id": "mVtY7QHTRyhs",
        "outputId": "d9df0155-462a-44cd-acdd-864c8b7d88ab"
      },
      "outputs": [
        {
          "output_type": "execute_result",
          "data": {
            "text/plain": [
              "{'intents': [{'patterns': ['Hello', 'La forme?', 'yo', 'Salut', 'ça roule?'],\n",
              "   'responses': ['Salut à toi!',\n",
              "    'Hello',\n",
              "    'Comment vas tu?',\n",
              "    'Salutations!',\n",
              "    'Enchanté'],\n",
              "   'tag': 'greeting'},\n",
              "  {'patterns': ['Quel âge as-tu?',\n",
              "    \"C'est quand ton anniversaire?\",\n",
              "    'Quand es-tu né?'],\n",
              "   'responses': [\"J'ai 25 ans\",\n",
              "    'Je suis né en 1996',\n",
              "    \"Ma date d'anniversaire est le 3 juillet et je suis né en 1996\",\n",
              "    '03/07/1996'],\n",
              "   'tag': 'age'},\n",
              "  {'patterns': ['Que fais-tu ce week-end?',\n",
              "    \"Tu veux qu'on fasse un truc ensemble?\",\n",
              "    'Quels sont tes plans pour cette semaine'],\n",
              "   'responses': ['Je suis libre toute la semaine',\n",
              "    \"Je n'ai rien de prévu\",\n",
              "    'Je ne suis pas occupé'],\n",
              "   'tag': 'date'},\n",
              "  {'patterns': ['Quel est ton prénom?',\n",
              "    \"Comment tu t'appelles?\",\n",
              "    'Qui es-tu?'],\n",
              "   'responses': ['Mon prénom est Miki', 'Je suis Miki', 'Miki'],\n",
              "   'tag': 'name'},\n",
              "  {'patterns': ['bye', 'Salut', 'see ya', 'adios', 'cya'],\n",
              "   'responses': [\"C'était sympa de te parler\",\n",
              "    'à plus tard',\n",
              "    'On se reparle très vite!'],\n",
              "   'tag': 'goodbye'},\n",
              "  {'patterns': ['Where is the coffee maker?', 'Où est la cafetière?'],\n",
              "   'responses': ['On the kitchen table', 'Sur la table de la cuisine'],\n",
              "   'tag': 'object_location'}]}"
            ]
          },
          "metadata": {},
          "execution_count": 35
        }
      ],
      "source": [
        "data"
      ]
    },
    {
      "cell_type": "code",
      "execution_count": null,
      "metadata": {
        "colab": {
          "base_uri": "https://localhost:8080/"
        },
        "id": "9hnl-o5EoTBd",
        "outputId": "79789cb3-513c-4f1a-d5a1-9ddaeb4c5e29"
      },
      "outputs": [
        {
          "output_type": "stream",
          "name": "stdout",
          "text": [
            "[nltk_data] Downloading package wordnet to /root/nltk_data...\n",
            "[nltk_data]   Package wordnet is already up-to-date!\n"
          ]
        }
      ],
      "source": [
        "import json\n",
        "import string\n",
        "import random \n",
        "import nltk\n",
        "import numpy as np\n",
        "from nltk.stem import WordNetLemmatizer \n",
        "import tensorflow as tf \n",
        "from tensorflow.keras import Sequential \n",
        "from tensorflow.keras.layers import Dense, Dropout, LSTM, Flatten\n",
        "nltk.download(\"wordnet\")\n",
        "import matplotlib.pyplot as plt"
      ]
    },
    {
      "cell_type": "code",
      "execution_count": null,
      "metadata": {
        "colab": {
          "base_uri": "https://localhost:8080/"
        },
        "id": "hTDcNWpAJ6fb",
        "outputId": "e2dc8599-222b-48d7-99a5-e43f82224388"
      },
      "outputs": [
        {
          "output_type": "stream",
          "name": "stdout",
          "text": [
            "[nltk_data] Downloading package punkt to /root/nltk_data...\n",
            "[nltk_data]   Package punkt is already up-to-date!\n"
          ]
        },
        {
          "output_type": "execute_result",
          "data": {
            "text/plain": [
              "True"
            ]
          },
          "metadata": {},
          "execution_count": 37
        }
      ],
      "source": [
        "import nltk\n",
        "nltk.download('punkt')"
      ]
    },
    {
      "cell_type": "markdown",
      "metadata": {
        "id": "S5T3fEYSHYz_"
      },
      "source": [
        "## Préparation des données d'entraînement"
      ]
    },
    {
      "cell_type": "code",
      "execution_count": null,
      "metadata": {
        "id": "YiYUDsLpoaMe"
      },
      "outputs": [],
      "source": [
        "# initialisation de lemmatizer pour obtenir la racine des mots\n",
        "lemmatizer = WordNetLemmatizer()\n",
        "# création des listes\n",
        "words = []\n",
        "classes = []\n",
        "doc_X = []\n",
        "doc_y = []\n",
        "# parcourir avec une boucle For toutes les intentions\n",
        "# tokéniser chaque pattern et ajouter les tokens à la liste words, les patterns et\n",
        "# le tag associé à l'intention sont ajoutés aux listes correspondantes\n",
        "for intent in data[\"intents\"]:\n",
        "    for pattern in intent[\"patterns\"]:\n",
        "        tokens = nltk.word_tokenize(pattern)\n",
        "        words.extend(tokens)\n",
        "        doc_X.append(pattern)\n",
        "        doc_y.append(intent[\"tag\"])\n",
        "    \n",
        "    # ajouter le tag aux classes s'il n'est pas déjà là \n",
        "    if intent[\"tag\"] not in classes:\n",
        "        classes.append(intent[\"tag\"])\n",
        "# lemmatiser tous les mots du vocabulaire et les convertir en minuscule\n",
        "# si les mots n'apparaissent pas dans la ponctuation\n",
        "words = [lemmatizer.lemmatize(word.lower()) for word in words if word not in string.punctuation]\n",
        "# trier le vocabulaire et les classes par ordre alphabétique et prendre le\n",
        "# set pour s'assurer qu'il n'y a pas de doublons\n",
        "words = sorted(set(words))\n",
        "classes = sorted(set(classes))"
      ]
    },
    {
      "cell_type": "code",
      "execution_count": null,
      "metadata": {
        "colab": {
          "base_uri": "https://localhost:8080/"
        },
        "id": "gEV_yBk1oem2",
        "outputId": "73afbc21-6b21-4e59-8670-14c768c96f03"
      },
      "outputs": [
        {
          "output_type": "stream",
          "name": "stdout",
          "text": [
            "['adios', 'anniversaire', 'as-tu', 'bye', \"c'est\", 'cafetière', 'ce', 'cette', 'coffee', 'comment', 'cya', 'ensemble', 'es-tu', 'est', 'fais-tu', 'fasse', 'forme', 'hello', 'is', 'la', 'maker', 'né', 'où', 'plan', 'pour', 'prénom', \"qu'on\", 'quand', 'que', 'quel', 'quels', 'qui', 'roule', 'salut', 'see', 'semaine', 'sont', \"t'appelles\", 'te', 'the', 'ton', 'truc', 'tu', 'un', 'veux', 'week-end', 'where', 'ya', 'yo', 'âge', 'ça']\n"
          ]
        }
      ],
      "source": [
        "print(words)"
      ]
    },
    {
      "cell_type": "code",
      "execution_count": null,
      "metadata": {
        "colab": {
          "base_uri": "https://localhost:8080/"
        },
        "id": "x6wAzDFDAAFe",
        "outputId": "c89e4ab4-0f5a-44e4-c930-45d23cd156cf"
      },
      "outputs": [
        {
          "output_type": "execute_result",
          "data": {
            "text/plain": [
              "51"
            ]
          },
          "metadata": {},
          "execution_count": 40
        }
      ],
      "source": [
        "len(words)"
      ]
    },
    {
      "cell_type": "code",
      "execution_count": null,
      "metadata": {
        "colab": {
          "base_uri": "https://localhost:8080/"
        },
        "id": "vnGPn6IypER9",
        "outputId": "627bd77d-1eb1-4559-c2d3-b58a2a9d2a40"
      },
      "outputs": [
        {
          "output_type": "stream",
          "name": "stdout",
          "text": [
            "['age', 'date', 'goodbye', 'greeting', 'name', 'object_location']\n"
          ]
        }
      ],
      "source": [
        "print(classes)"
      ]
    },
    {
      "cell_type": "code",
      "execution_count": null,
      "metadata": {
        "colab": {
          "base_uri": "https://localhost:8080/"
        },
        "id": "MA4YYvMSpHBT",
        "outputId": "5681859c-235e-4d18-e282-d1591b775e6e"
      },
      "outputs": [
        {
          "output_type": "stream",
          "name": "stdout",
          "text": [
            "['Hello', 'La forme?', 'yo', 'Salut', 'ça roule?', 'Quel âge as-tu?', \"C'est quand ton anniversaire?\", 'Quand es-tu né?', 'Que fais-tu ce week-end?', \"Tu veux qu'on fasse un truc ensemble?\", 'Quels sont tes plans pour cette semaine', 'Quel est ton prénom?', \"Comment tu t'appelles?\", 'Qui es-tu?', 'bye', 'Salut', 'see ya', 'adios', 'cya', 'Where is the coffee maker?', 'Où est la cafetière?']\n"
          ]
        }
      ],
      "source": [
        "print(doc_X)"
      ]
    },
    {
      "cell_type": "code",
      "execution_count": null,
      "metadata": {
        "colab": {
          "base_uri": "https://localhost:8080/"
        },
        "id": "XYfiDB4QpKU_",
        "outputId": "e9f35f4d-3666-4fa6-a8de-a5d0477430a6"
      },
      "outputs": [
        {
          "output_type": "stream",
          "name": "stdout",
          "text": [
            "['greeting', 'greeting', 'greeting', 'greeting', 'greeting', 'age', 'age', 'age', 'date', 'date', 'date', 'name', 'name', 'name', 'goodbye', 'goodbye', 'goodbye', 'goodbye', 'goodbye', 'object_location', 'object_location']\n"
          ]
        }
      ],
      "source": [
        "print(doc_y)"
      ]
    },
    {
      "cell_type": "code",
      "execution_count": null,
      "metadata": {
        "id": "ZTc02hA6pLvR"
      },
      "outputs": [],
      "source": [
        "# liste pour les données d'entraînement\n",
        "training = []\n",
        "out_empty = [0] * len(classes)\n",
        "# création du modèle d'ensemble de mots\n",
        "for idx, doc in enumerate(doc_X):\n",
        "    bow = []\n",
        "    text = lemmatizer.lemmatize(doc.lower())\n",
        "    for word in words:\n",
        "        bow.append(1) if word in text else bow.append(0)\n",
        "    # marque l'index de la classe à laquelle le pattern atguel est associé à\n",
        "    output_row = list(out_empty)\n",
        "    output_row[classes.index(doc_y[idx])] = 1\n",
        "    # ajoute le one hot encoded BoW et les classes associées à la liste training\n",
        "    training.append([bow, output_row])\n",
        "# mélanger les données et les convertir en array\n",
        "random.shuffle(training)\n",
        "training = np.array(training, dtype=object)\n",
        "# séparer les features et les labels target\n",
        "train_X = np.array(list(training[:, 0]))\n",
        "train_y = np.array(list(training[:, 1]))"
      ]
    },
    {
      "cell_type": "code",
      "execution_count": null,
      "metadata": {
        "id": "7HhGjKz3pOVG"
      },
      "outputs": [],
      "source": [
        "# définition de quelques paramètres\n",
        "input_shape = (len(train_X[0]),)\n",
        "output_shape = len(train_y[0])\n",
        "epochs = 200"
      ]
    },
    {
      "cell_type": "code",
      "execution_count": null,
      "metadata": {
        "colab": {
          "base_uri": "https://localhost:8080/"
        },
        "id": "Iu7HnEst23HZ",
        "outputId": "69092082-45bb-464f-d54e-7f24d317c8fd"
      },
      "outputs": [
        {
          "output_type": "execute_result",
          "data": {
            "text/plain": [
              "((51,), 6)"
            ]
          },
          "metadata": {},
          "execution_count": 46
        }
      ],
      "source": [
        "input_shape, output_shape"
      ]
    },
    {
      "cell_type": "markdown",
      "metadata": {
        "id": "XpL6kxi8HAJ5"
      },
      "source": [
        "## Développement du modèle"
      ]
    },
    {
      "cell_type": "markdown",
      "metadata": {
        "id": "8DzPsjKOPL2D"
      },
      "source": [
        "Le modèle permet la prédiction de la classe à laquelle appartient le message entré par l'utilisateur. A partir de cette classe, il pourra ensuite choisir une réponse adaptée pour renvoyer à l'utilisateur."
      ]
    },
    {
      "cell_type": "code",
      "execution_count": null,
      "metadata": {
        "id": "_2idZglLpQdu"
      },
      "outputs": [],
      "source": [
        "# modèle Deep Learning\n",
        "model = Sequential()\n",
        "model.add(Dense(128, input_shape=input_shape, activation=\"relu\"))\n",
        "#model.add(Dropout(0.5))\n",
        "model.add(Dense(64, activation=\"relu\"))\n",
        "#model.add(Dropout(0.3))\n",
        "model.add(Dense(output_shape, activation = \"softmax\"))\n",
        "adam = tf.keras.optimizers.Adam(learning_rate=0.01, decay=1e-6)\n",
        "model.compile(loss='categorical_crossentropy', optimizer=adam, metrics=[\"accuracy\"])"
      ]
    },
    {
      "cell_type": "code",
      "execution_count": null,
      "metadata": {
        "colab": {
          "base_uri": "https://localhost:8080/"
        },
        "id": "H1wLZvoZpSYQ",
        "outputId": "c547488f-90fc-4470-8db4-90a400529403"
      },
      "outputs": [
        {
          "output_type": "stream",
          "name": "stdout",
          "text": [
            "Model: \"sequential_1\"\n",
            "_________________________________________________________________\n",
            "Layer (type)                 Output Shape              Param #   \n",
            "=================================================================\n",
            "dense_3 (Dense)              (None, 128)               6656      \n",
            "_________________________________________________________________\n",
            "dense_4 (Dense)              (None, 64)                8256      \n",
            "_________________________________________________________________\n",
            "dense_5 (Dense)              (None, 6)                 390       \n",
            "=================================================================\n",
            "Total params: 15,302\n",
            "Trainable params: 15,302\n",
            "Non-trainable params: 0\n",
            "_________________________________________________________________\n",
            "None\n"
          ]
        }
      ],
      "source": [
        "print(model.summary())"
      ]
    },
    {
      "cell_type": "code",
      "execution_count": null,
      "metadata": {
        "colab": {
          "base_uri": "https://localhost:8080/",
          "height": 286
        },
        "id": "xrsp30Cw17FC",
        "outputId": "e2a27a24-eb84-4d37-b7cf-b9815acc5aee"
      },
      "outputs": [
        {
          "output_type": "execute_result",
          "data": {
            "image/png": "[encoded data removed]",
            "text/plain": [
              "<IPython.core.display.Image object>"
            ]
          },
          "metadata": {},
          "execution_count": 49
        }
      ],
      "source": [
        "tf.keras.utils.plot_model(model, show_shapes=True, dpi=64)"
      ]
    },
    {
      "cell_type": "markdown",
      "metadata": {
        "id": "Hdqiq61tHFIG"
      },
      "source": [
        "## Entraînement du modèle"
      ]
    },
    {
      "cell_type": "code",
      "source": [
        "epochs = 200"
      ],
      "metadata": {
        "id": "zO7CmOyUsF1O"
      },
      "execution_count": null,
      "outputs": []
    },
    {
      "cell_type": "code",
      "execution_count": null,
      "metadata": {
        "colab": {
          "base_uri": "https://localhost:8080/"
        },
        "id": "Y56tfth1pT0_",
        "outputId": "ce025b29-7447-4e02-88a0-9f75c2fdf699"
      },
      "outputs": [
        {
          "output_type": "stream",
          "name": "stdout",
          "text": [
            "Train on 21 samples\n",
            "Epoch 1/200\n",
            "21/21 [==============================] - 0s 601us/sample - loss: 0.0660 - accuracy: 0.9524\n",
            "Epoch 2/200\n",
            "21/21 [==============================] - 0s 414us/sample - loss: 0.0660 - accuracy: 0.9524\n",
            "Epoch 3/200\n",
            "21/21 [==============================] - 0s 207us/sample - loss: 0.0660 - accuracy: 0.9524\n",
            "Epoch 4/200\n",
            "21/21 [==============================] - 0s 249us/sample - loss: 0.0660 - accuracy: 0.9524\n",
            "Epoch 5/200\n",
            "21/21 [==============================] - 0s 234us/sample - loss: 0.0660 - accuracy: 0.9524\n",
            "Epoch 6/200\n",
            "21/21 [==============================] - 0s 333us/sample - loss: 0.0660 - accuracy: 0.9524\n",
            "Epoch 7/200\n",
            "21/21 [==============================] - 0s 371us/sample - loss: 0.0660 - accuracy: 0.9524\n",
            "Epoch 8/200\n",
            "21/21 [==============================] - 0s 345us/sample - loss: 0.0660 - accuracy: 0.9524\n",
            "Epoch 9/200\n",
            "21/21 [==============================] - 0s 316us/sample - loss: 0.0660 - accuracy: 0.9524\n",
            "Epoch 10/200\n",
            "21/21 [==============================] - 0s 369us/sample - loss: 0.0660 - accuracy: 0.9524\n",
            "Epoch 11/200\n",
            "21/21 [==============================] - 0s 344us/sample - loss: 0.0660 - accuracy: 0.9524\n",
            "Epoch 12/200\n",
            "21/21 [==============================] - 0s 352us/sample - loss: 0.0660 - accuracy: 0.9524\n",
            "Epoch 13/200\n",
            "21/21 [==============================] - 0s 335us/sample - loss: 0.0660 - accuracy: 0.9524\n",
            "Epoch 14/200\n",
            "21/21 [==============================] - 0s 536us/sample - loss: 0.0660 - accuracy: 0.9524\n",
            "Epoch 15/200\n",
            "21/21 [==============================] - 0s 315us/sample - loss: 0.0660 - accuracy: 0.9524\n",
            "Epoch 16/200\n",
            "21/21 [==============================] - 0s 389us/sample - loss: 0.0660 - accuracy: 0.9524\n",
            "Epoch 17/200\n",
            "21/21 [==============================] - 0s 341us/sample - loss: 0.0660 - accuracy: 0.9524\n",
            "Epoch 18/200\n",
            "21/21 [==============================] - 0s 316us/sample - loss: 0.0660 - accuracy: 0.9524\n",
            "Epoch 19/200\n",
            "21/21 [==============================] - 0s 366us/sample - loss: 0.0660 - accuracy: 0.9524\n",
            "Epoch 20/200\n",
            "21/21 [==============================] - 0s 328us/sample - loss: 0.0660 - accuracy: 0.9524\n",
            "Epoch 21/200\n",
            "21/21 [==============================] - 0s 343us/sample - loss: 0.0660 - accuracy: 0.9524\n",
            "Epoch 22/200\n",
            "21/21 [==============================] - 0s 307us/sample - loss: 0.0660 - accuracy: 0.9524\n",
            "Epoch 23/200\n",
            "21/21 [==============================] - 0s 321us/sample - loss: 0.0660 - accuracy: 0.9524\n",
            "Epoch 24/200\n",
            "21/21 [==============================] - 0s 438us/sample - loss: 0.0660 - accuracy: 0.9524\n",
            "Epoch 25/200\n",
            "21/21 [==============================] - 0s 344us/sample - loss: 0.0660 - accuracy: 0.9524\n",
            "Epoch 26/200\n",
            "21/21 [==============================] - 0s 383us/sample - loss: 0.0660 - accuracy: 0.9524\n",
            "Epoch 27/200\n",
            "21/21 [==============================] - 0s 517us/sample - loss: 0.0660 - accuracy: 0.9524\n",
            "Epoch 28/200\n",
            "21/21 [==============================] - 0s 268us/sample - loss: 0.0660 - accuracy: 0.9524\n",
            "Epoch 29/200\n",
            "21/21 [==============================] - 0s 249us/sample - loss: 0.0660 - accuracy: 0.9524\n",
            "Epoch 30/200\n",
            "21/21 [==============================] - 0s 299us/sample - loss: 0.0660 - accuracy: 0.9524\n",
            "Epoch 31/200\n",
            "21/21 [==============================] - 0s 286us/sample - loss: 0.0660 - accuracy: 0.9524\n",
            "Epoch 32/200\n",
            "21/21 [==============================] - 0s 287us/sample - loss: 0.0660 - accuracy: 0.9524\n",
            "Epoch 33/200\n",
            "21/21 [==============================] - 0s 284us/sample - loss: 0.0660 - accuracy: 0.9524\n",
            "Epoch 34/200\n",
            "21/21 [==============================] - 0s 325us/sample - loss: 0.0660 - accuracy: 0.9524\n",
            "Epoch 35/200\n",
            "21/21 [==============================] - 0s 534us/sample - loss: 0.0660 - accuracy: 0.9524\n",
            "Epoch 36/200\n",
            "21/21 [==============================] - 0s 357us/sample - loss: 0.0660 - accuracy: 0.9524\n",
            "Epoch 37/200\n",
            "21/21 [==============================] - 0s 458us/sample - loss: 0.0660 - accuracy: 0.9524\n",
            "Epoch 38/200\n",
            "21/21 [==============================] - 0s 351us/sample - loss: 0.0660 - accuracy: 0.9524\n",
            "Epoch 39/200\n",
            "21/21 [==============================] - 0s 508us/sample - loss: 0.0660 - accuracy: 0.9524\n",
            "Epoch 40/200\n",
            "21/21 [==============================] - 0s 455us/sample - loss: 0.0660 - accuracy: 0.9524\n",
            "Epoch 41/200\n",
            "21/21 [==============================] - 0s 649us/sample - loss: 0.0660 - accuracy: 0.9524\n",
            "Epoch 42/200\n",
            "21/21 [==============================] - 0s 418us/sample - loss: 0.0660 - accuracy: 0.9524\n",
            "Epoch 43/200\n",
            "21/21 [==============================] - 0s 419us/sample - loss: 0.0660 - accuracy: 0.9524\n",
            "Epoch 44/200\n",
            "21/21 [==============================] - 0s 324us/sample - loss: 0.0660 - accuracy: 0.9524\n",
            "Epoch 45/200\n",
            "21/21 [==============================] - 0s 364us/sample - loss: 0.0660 - accuracy: 0.9524\n",
            "Epoch 46/200\n",
            "21/21 [==============================] - 0s 239us/sample - loss: 0.0660 - accuracy: 0.9524\n",
            "Epoch 47/200\n",
            "21/21 [==============================] - 0s 290us/sample - loss: 0.0660 - accuracy: 0.9524\n",
            "Epoch 48/200\n",
            "21/21 [==============================] - 0s 300us/sample - loss: 0.0660 - accuracy: 0.9524\n",
            "Epoch 49/200\n",
            "21/21 [==============================] - 0s 258us/sample - loss: 0.0660 - accuracy: 0.9524\n",
            "Epoch 50/200\n",
            "21/21 [==============================] - 0s 257us/sample - loss: 0.0660 - accuracy: 0.9524\n",
            "Epoch 51/200\n",
            "21/21 [==============================] - 0s 231us/sample - loss: 0.0661 - accuracy: 0.9524\n",
            "Epoch 52/200\n",
            "21/21 [==============================] - 0s 247us/sample - loss: 0.0661 - accuracy: 0.9524\n",
            "Epoch 53/200\n",
            "21/21 [==============================] - 0s 377us/sample - loss: 0.0662 - accuracy: 0.9524\n",
            "Epoch 54/200\n",
            "21/21 [==============================] - 0s 228us/sample - loss: 0.0664 - accuracy: 0.9524\n",
            "Epoch 55/200\n",
            "21/21 [==============================] - 0s 427us/sample - loss: 0.0669 - accuracy: 0.9524\n",
            "Epoch 56/200\n",
            "21/21 [==============================] - 0s 328us/sample - loss: 0.0678 - accuracy: 0.9524\n",
            "Epoch 57/200\n",
            "21/21 [==============================] - 0s 388us/sample - loss: 0.0689 - accuracy: 0.9524\n",
            "Epoch 58/200\n",
            "21/21 [==============================] - 0s 467us/sample - loss: 0.0697 - accuracy: 0.9524\n",
            "Epoch 59/200\n",
            "21/21 [==============================] - 0s 216us/sample - loss: 0.0688 - accuracy: 0.9524\n",
            "Epoch 60/200\n",
            "21/21 [==============================] - 0s 273us/sample - loss: 0.0669 - accuracy: 0.9524\n",
            "Epoch 61/200\n",
            "21/21 [==============================] - 0s 220us/sample - loss: 0.0660 - accuracy: 0.9524\n",
            "Epoch 62/200\n",
            "21/21 [==============================] - 0s 346us/sample - loss: 0.0668 - accuracy: 0.9524\n",
            "Epoch 63/200\n",
            "21/21 [==============================] - 0s 329us/sample - loss: 0.0677 - accuracy: 0.9524\n",
            "Epoch 64/200\n",
            "21/21 [==============================] - 0s 285us/sample - loss: 0.0673 - accuracy: 0.9524\n",
            "Epoch 65/200\n",
            "21/21 [==============================] - 0s 406us/sample - loss: 0.0662 - accuracy: 0.9524\n",
            "Epoch 66/200\n",
            "21/21 [==============================] - 0s 327us/sample - loss: 0.0662 - accuracy: 0.9524\n",
            "Epoch 67/200\n",
            "21/21 [==============================] - 0s 336us/sample - loss: 0.0669 - accuracy: 0.9524\n",
            "Epoch 68/200\n",
            "21/21 [==============================] - 0s 485us/sample - loss: 0.0668 - accuracy: 0.9524\n",
            "Epoch 69/200\n",
            "21/21 [==============================] - 0s 283us/sample - loss: 0.0661 - accuracy: 0.9524\n",
            "Epoch 70/200\n",
            "21/21 [==============================] - 0s 376us/sample - loss: 0.0662 - accuracy: 0.9524\n",
            "Epoch 71/200\n",
            "21/21 [==============================] - 0s 267us/sample - loss: 0.0666 - accuracy: 0.9524\n",
            "Epoch 72/200\n",
            "21/21 [==============================] - 0s 318us/sample - loss: 0.0665 - accuracy: 0.9524\n",
            "Epoch 73/200\n",
            "21/21 [==============================] - 0s 293us/sample - loss: 0.0660 - accuracy: 0.9524\n",
            "Epoch 74/200\n",
            "21/21 [==============================] - 0s 309us/sample - loss: 0.0662 - accuracy: 0.9524\n",
            "Epoch 75/200\n",
            "21/21 [==============================] - 0s 337us/sample - loss: 0.0665 - accuracy: 0.9524\n",
            "Epoch 76/200\n",
            "21/21 [==============================] - 0s 201us/sample - loss: 0.0662 - accuracy: 0.9524\n",
            "Epoch 77/200\n",
            "21/21 [==============================] - 0s 291us/sample - loss: 0.0660 - accuracy: 0.9524\n",
            "Epoch 78/200\n",
            "21/21 [==============================] - 0s 329us/sample - loss: 0.0662 - accuracy: 0.9524\n",
            "Epoch 79/200\n",
            "21/21 [==============================] - 0s 361us/sample - loss: 0.0663 - accuracy: 0.9524\n",
            "Epoch 80/200\n",
            "21/21 [==============================] - 0s 210us/sample - loss: 0.0661 - accuracy: 0.9524\n",
            "Epoch 81/200\n",
            "21/21 [==============================] - 0s 332us/sample - loss: 0.0661 - accuracy: 0.9524\n",
            "Epoch 82/200\n",
            "21/21 [==============================] - 0s 487us/sample - loss: 0.0662 - accuracy: 0.9524\n",
            "Epoch 83/200\n",
            "21/21 [==============================] - 0s 492us/sample - loss: 0.0661 - accuracy: 0.9524\n",
            "Epoch 84/200\n",
            "21/21 [==============================] - 0s 409us/sample - loss: 0.0660 - accuracy: 0.9524\n",
            "Epoch 85/200\n",
            "21/21 [==============================] - 0s 308us/sample - loss: 0.0661 - accuracy: 0.9524\n",
            "Epoch 86/200\n",
            "21/21 [==============================] - 0s 392us/sample - loss: 0.0661 - accuracy: 0.9524\n",
            "Epoch 87/200\n",
            "21/21 [==============================] - 0s 270us/sample - loss: 0.0660 - accuracy: 0.9524\n",
            "Epoch 88/200\n",
            "21/21 [==============================] - 0s 393us/sample - loss: 0.0660 - accuracy: 0.9524\n",
            "Epoch 89/200\n",
            "21/21 [==============================] - 0s 629us/sample - loss: 0.0661 - accuracy: 0.9524\n",
            "Epoch 90/200\n",
            "21/21 [==============================] - 0s 299us/sample - loss: 0.0661 - accuracy: 0.9524\n",
            "Epoch 91/200\n",
            "21/21 [==============================] - 0s 306us/sample - loss: 0.0660 - accuracy: 0.9524\n",
            "Epoch 92/200\n",
            "21/21 [==============================] - 0s 262us/sample - loss: 0.0660 - accuracy: 0.9524\n",
            "Epoch 93/200\n",
            "21/21 [==============================] - 0s 268us/sample - loss: 0.0661 - accuracy: 0.9524\n",
            "Epoch 94/200\n",
            "21/21 [==============================] - 0s 223us/sample - loss: 0.0660 - accuracy: 0.9524\n",
            "Epoch 95/200\n",
            "21/21 [==============================] - 0s 304us/sample - loss: 0.0660 - accuracy: 0.9524\n",
            "Epoch 96/200\n",
            "21/21 [==============================] - 0s 335us/sample - loss: 0.0660 - accuracy: 0.9524\n",
            "Epoch 97/200\n",
            "21/21 [==============================] - 0s 221us/sample - loss: 0.0661 - accuracy: 0.9524\n",
            "Epoch 98/200\n",
            "21/21 [==============================] - 0s 350us/sample - loss: 0.0660 - accuracy: 0.9524\n",
            "Epoch 99/200\n",
            "21/21 [==============================] - 0s 196us/sample - loss: 0.0660 - accuracy: 0.9524\n",
            "Epoch 100/200\n",
            "21/21 [==============================] - 0s 551us/sample - loss: 0.0660 - accuracy: 0.9524\n",
            "Epoch 101/200\n",
            "21/21 [==============================] - 0s 430us/sample - loss: 0.0660 - accuracy: 0.9524\n",
            "Epoch 102/200\n",
            "21/21 [==============================] - 0s 202us/sample - loss: 0.0660 - accuracy: 0.9524\n",
            "Epoch 103/200\n",
            "21/21 [==============================] - 0s 205us/sample - loss: 0.0660 - accuracy: 0.9524\n",
            "Epoch 104/200\n",
            "21/21 [==============================] - 0s 259us/sample - loss: 0.0660 - accuracy: 0.9524\n",
            "Epoch 105/200\n",
            "21/21 [==============================] - 0s 372us/sample - loss: 0.0660 - accuracy: 0.9524\n",
            "Epoch 106/200\n",
            "21/21 [==============================] - 0s 200us/sample - loss: 0.0660 - accuracy: 0.9524\n",
            "Epoch 107/200\n",
            "21/21 [==============================] - 0s 178us/sample - loss: 0.0660 - accuracy: 0.9524\n",
            "Epoch 108/200\n",
            "21/21 [==============================] - 0s 198us/sample - loss: 0.0660 - accuracy: 0.9524\n",
            "Epoch 109/200\n",
            "21/21 [==============================] - 0s 191us/sample - loss: 0.0660 - accuracy: 0.9524\n",
            "Epoch 110/200\n",
            "21/21 [==============================] - 0s 437us/sample - loss: 0.0660 - accuracy: 0.9524\n",
            "Epoch 111/200\n",
            "21/21 [==============================] - 0s 203us/sample - loss: 0.0660 - accuracy: 0.9524\n",
            "Epoch 112/200\n",
            "21/21 [==============================] - 0s 183us/sample - loss: 0.0660 - accuracy: 0.9524\n",
            "Epoch 113/200\n",
            "21/21 [==============================] - 0s 187us/sample - loss: 0.0660 - accuracy: 0.9524\n",
            "Epoch 114/200\n",
            "21/21 [==============================] - 0s 350us/sample - loss: 0.0660 - accuracy: 0.9524\n",
            "Epoch 115/200\n",
            "21/21 [==============================] - 0s 292us/sample - loss: 0.0660 - accuracy: 0.9524\n",
            "Epoch 116/200\n",
            "21/21 [==============================] - 0s 210us/sample - loss: 0.0660 - accuracy: 0.9524\n",
            "Epoch 117/200\n",
            "21/21 [==============================] - 0s 309us/sample - loss: 0.0660 - accuracy: 0.9524\n",
            "Epoch 118/200\n",
            "21/21 [==============================] - 0s 230us/sample - loss: 0.0660 - accuracy: 0.9524\n",
            "Epoch 119/200\n",
            "21/21 [==============================] - 0s 193us/sample - loss: 0.0660 - accuracy: 0.9524\n",
            "Epoch 120/200\n",
            "21/21 [==============================] - 0s 469us/sample - loss: 0.0660 - accuracy: 0.9524\n",
            "Epoch 121/200\n",
            "21/21 [==============================] - 0s 201us/sample - loss: 0.0660 - accuracy: 0.9524\n",
            "Epoch 122/200\n",
            "21/21 [==============================] - 0s 224us/sample - loss: 0.0660 - accuracy: 0.9524\n",
            "Epoch 123/200\n",
            "21/21 [==============================] - 0s 190us/sample - loss: 0.0660 - accuracy: 0.9524\n",
            "Epoch 124/200\n",
            "21/21 [==============================] - 0s 221us/sample - loss: 0.0660 - accuracy: 0.9524\n",
            "Epoch 125/200\n",
            "21/21 [==============================] - 0s 256us/sample - loss: 0.0660 - accuracy: 0.9524\n",
            "Epoch 126/200\n",
            "21/21 [==============================] - 0s 766us/sample - loss: 0.0660 - accuracy: 0.9524\n",
            "Epoch 127/200\n",
            "21/21 [==============================] - 0s 432us/sample - loss: 0.0660 - accuracy: 0.9524\n",
            "Epoch 128/200\n",
            "21/21 [==============================] - 0s 328us/sample - loss: 0.0660 - accuracy: 0.9524\n",
            "Epoch 129/200\n",
            "21/21 [==============================] - 0s 240us/sample - loss: 0.0660 - accuracy: 0.9524\n",
            "Epoch 130/200\n",
            "21/21 [==============================] - 0s 409us/sample - loss: 0.0660 - accuracy: 0.9524\n",
            "Epoch 131/200\n",
            "21/21 [==============================] - 0s 394us/sample - loss: 0.0660 - accuracy: 0.9524\n",
            "Epoch 132/200\n",
            "21/21 [==============================] - 0s 346us/sample - loss: 0.0660 - accuracy: 0.9524\n",
            "Epoch 133/200\n",
            "21/21 [==============================] - 0s 240us/sample - loss: 0.0660 - accuracy: 0.9524\n",
            "Epoch 134/200\n",
            "21/21 [==============================] - 0s 404us/sample - loss: 0.0660 - accuracy: 0.9524\n",
            "Epoch 135/200\n",
            "21/21 [==============================] - 0s 326us/sample - loss: 0.0660 - accuracy: 0.9524\n",
            "Epoch 136/200\n",
            "21/21 [==============================] - 0s 400us/sample - loss: 0.0660 - accuracy: 0.9524\n",
            "Epoch 137/200\n",
            "21/21 [==============================] - 0s 266us/sample - loss: 0.0660 - accuracy: 0.9524\n",
            "Epoch 138/200\n",
            "21/21 [==============================] - 0s 256us/sample - loss: 0.0660 - accuracy: 0.9524\n",
            "Epoch 139/200\n",
            "21/21 [==============================] - 0s 319us/sample - loss: 0.0660 - accuracy: 0.9524\n",
            "Epoch 140/200\n",
            "21/21 [==============================] - 0s 238us/sample - loss: 0.0660 - accuracy: 0.9524\n",
            "Epoch 141/200\n",
            "21/21 [==============================] - 0s 397us/sample - loss: 0.0660 - accuracy: 0.9524\n",
            "Epoch 142/200\n",
            "21/21 [==============================] - 0s 238us/sample - loss: 0.0660 - accuracy: 0.9524\n",
            "Epoch 143/200\n",
            "21/21 [==============================] - 0s 252us/sample - loss: 0.0660 - accuracy: 0.9524\n",
            "Epoch 144/200\n",
            "21/21 [==============================] - 0s 256us/sample - loss: 0.0660 - accuracy: 0.9524\n",
            "Epoch 145/200\n",
            "21/21 [==============================] - 0s 425us/sample - loss: 0.0660 - accuracy: 0.9524\n",
            "Epoch 146/200\n",
            "21/21 [==============================] - 0s 265us/sample - loss: 0.0660 - accuracy: 0.9524\n",
            "Epoch 147/200\n",
            "21/21 [==============================] - 0s 432us/sample - loss: 0.0660 - accuracy: 0.9524\n",
            "Epoch 148/200\n",
            "21/21 [==============================] - 0s 248us/sample - loss: 0.0660 - accuracy: 0.9524\n",
            "Epoch 149/200\n",
            "21/21 [==============================] - 0s 272us/sample - loss: 0.0660 - accuracy: 0.9524\n",
            "Epoch 150/200\n",
            "21/21 [==============================] - 0s 249us/sample - loss: 0.0660 - accuracy: 0.9524\n",
            "Epoch 151/200\n",
            "21/21 [==============================] - 0s 277us/sample - loss: 0.0660 - accuracy: 0.9524\n",
            "Epoch 152/200\n",
            "21/21 [==============================] - 0s 254us/sample - loss: 0.0660 - accuracy: 0.9524\n",
            "Epoch 153/200\n",
            "21/21 [==============================] - 0s 258us/sample - loss: 0.0660 - accuracy: 0.9524\n",
            "Epoch 154/200\n",
            "21/21 [==============================] - 0s 235us/sample - loss: 0.0660 - accuracy: 0.9524\n",
            "Epoch 155/200\n",
            "21/21 [==============================] - 0s 259us/sample - loss: 0.0660 - accuracy: 0.9524\n",
            "Epoch 156/200\n",
            "21/21 [==============================] - 0s 347us/sample - loss: 0.0660 - accuracy: 0.9524\n",
            "Epoch 157/200\n",
            "21/21 [==============================] - 0s 244us/sample - loss: 0.0660 - accuracy: 0.9524\n",
            "Epoch 158/200\n",
            "21/21 [==============================] - 0s 271us/sample - loss: 0.0660 - accuracy: 0.9524\n",
            "Epoch 159/200\n",
            "21/21 [==============================] - 0s 429us/sample - loss: 0.0660 - accuracy: 0.9524\n",
            "Epoch 160/200\n",
            "21/21 [==============================] - 0s 246us/sample - loss: 0.0660 - accuracy: 0.9524\n",
            "Epoch 161/200\n",
            "21/21 [==============================] - 0s 247us/sample - loss: 0.0660 - accuracy: 0.9524\n",
            "Epoch 162/200\n",
            "21/21 [==============================] - 0s 281us/sample - loss: 0.0660 - accuracy: 0.9524\n",
            "Epoch 163/200\n",
            "21/21 [==============================] - 0s 294us/sample - loss: 0.0660 - accuracy: 0.9524\n",
            "Epoch 164/200\n",
            "21/21 [==============================] - 0s 240us/sample - loss: 0.0660 - accuracy: 0.9524\n",
            "Epoch 165/200\n",
            "21/21 [==============================] - 0s 294us/sample - loss: 0.0660 - accuracy: 0.9524\n",
            "Epoch 166/200\n",
            "21/21 [==============================] - 0s 294us/sample - loss: 0.0660 - accuracy: 0.9524\n",
            "Epoch 167/200\n",
            "21/21 [==============================] - 0s 274us/sample - loss: 0.0660 - accuracy: 0.9524\n",
            "Epoch 168/200\n",
            "21/21 [==============================] - 0s 349us/sample - loss: 0.0660 - accuracy: 0.9524\n",
            "Epoch 169/200\n",
            "21/21 [==============================] - 0s 329us/sample - loss: 0.0660 - accuracy: 0.9524\n",
            "Epoch 170/200\n",
            "21/21 [==============================] - 0s 293us/sample - loss: 0.0660 - accuracy: 0.9524\n",
            "Epoch 171/200\n",
            "21/21 [==============================] - 0s 361us/sample - loss: 0.0660 - accuracy: 0.9524\n",
            "Epoch 172/200\n",
            "21/21 [==============================] - 0s 327us/sample - loss: 0.0660 - accuracy: 0.9524\n",
            "Epoch 173/200\n",
            "21/21 [==============================] - 0s 331us/sample - loss: 0.0660 - accuracy: 0.9524\n",
            "Epoch 174/200\n",
            "21/21 [==============================] - 0s 327us/sample - loss: 0.0660 - accuracy: 0.9524\n",
            "Epoch 175/200\n",
            "21/21 [==============================] - 0s 291us/sample - loss: 0.0660 - accuracy: 0.9524\n",
            "Epoch 176/200\n",
            "21/21 [==============================] - 0s 282us/sample - loss: 0.0660 - accuracy: 0.9524\n",
            "Epoch 177/200\n",
            "21/21 [==============================] - 0s 340us/sample - loss: 0.0660 - accuracy: 0.9524\n",
            "Epoch 178/200\n",
            "21/21 [==============================] - 0s 250us/sample - loss: 0.0660 - accuracy: 0.9524\n",
            "Epoch 179/200\n",
            "21/21 [==============================] - 0s 394us/sample - loss: 0.0660 - accuracy: 0.9524\n",
            "Epoch 180/200\n",
            "21/21 [==============================] - 0s 289us/sample - loss: 0.0660 - accuracy: 0.9524\n",
            "Epoch 181/200\n",
            "21/21 [==============================] - 0s 409us/sample - loss: 0.0660 - accuracy: 0.9524\n",
            "Epoch 182/200\n",
            "21/21 [==============================] - 0s 283us/sample - loss: 0.0660 - accuracy: 0.9524\n",
            "Epoch 183/200\n",
            "21/21 [==============================] - 0s 351us/sample - loss: 0.0660 - accuracy: 0.9524\n",
            "Epoch 184/200\n",
            "21/21 [==============================] - 0s 277us/sample - loss: 0.0660 - accuracy: 0.9524\n",
            "Epoch 185/200\n",
            "21/21 [==============================] - 0s 249us/sample - loss: 0.0660 - accuracy: 0.9524\n",
            "Epoch 186/200\n",
            "21/21 [==============================] - 0s 465us/sample - loss: 0.0660 - accuracy: 0.9524\n",
            "Epoch 187/200\n",
            "21/21 [==============================] - 0s 255us/sample - loss: 0.0660 - accuracy: 0.9524\n",
            "Epoch 188/200\n",
            "21/21 [==============================] - 0s 260us/sample - loss: 0.0660 - accuracy: 0.9524\n",
            "Epoch 189/200\n",
            "21/21 [==============================] - 0s 253us/sample - loss: 0.0660 - accuracy: 0.9524\n",
            "Epoch 190/200\n",
            "21/21 [==============================] - 0s 258us/sample - loss: 0.0660 - accuracy: 0.9524\n",
            "Epoch 191/200\n",
            "21/21 [==============================] - 0s 263us/sample - loss: 0.0660 - accuracy: 0.9524\n",
            "Epoch 192/200\n",
            "21/21 [==============================] - 0s 245us/sample - loss: 0.0660 - accuracy: 0.9524\n",
            "Epoch 193/200\n",
            "21/21 [==============================] - 0s 272us/sample - loss: 0.0660 - accuracy: 0.9524\n",
            "Epoch 194/200\n",
            "21/21 [==============================] - 0s 352us/sample - loss: 0.0660 - accuracy: 0.9524\n",
            "Epoch 195/200\n",
            "21/21 [==============================] - 0s 380us/sample - loss: 0.0660 - accuracy: 0.9524\n",
            "Epoch 196/200\n",
            "21/21 [==============================] - 0s 432us/sample - loss: 0.0660 - accuracy: 0.9524\n",
            "Epoch 197/200\n",
            "21/21 [==============================] - 0s 257us/sample - loss: 0.0660 - accuracy: 0.9524\n",
            "Epoch 198/200\n",
            "21/21 [==============================] - 0s 416us/sample - loss: 0.0660 - accuracy: 0.9524\n",
            "Epoch 199/200\n",
            "21/21 [==============================] - 0s 202us/sample - loss: 0.0660 - accuracy: 0.9524\n",
            "Epoch 200/200\n",
            "21/21 [==============================] - 0s 312us/sample - loss: 0.0660 - accuracy: 0.9524\n"
          ]
        }
      ],
      "source": [
        "# entraînement du modèle\n",
        "history = model.fit(x=train_X, y=train_y, epochs=epochs, verbose=1)"
      ]
    },
    {
      "cell_type": "markdown",
      "source": [
        "### Affichage de l'historique d'entraînement"
      ],
      "metadata": {
        "id": "vfVCQlFtsegv"
      }
    },
    {
      "cell_type": "code",
      "source": [
        "acc = history.history['accuracy']\n",
        "loss = history.history['loss']"
      ],
      "metadata": {
        "id": "nQHQtEaKr9i3"
      },
      "execution_count": null,
      "outputs": []
    },
    {
      "cell_type": "code",
      "source": [
        "epochs_range = range(epochs)\n",
        "\n",
        "plt.figure(figsize=(12, 4))\n",
        "plt.subplot(1, 2, 1)\n",
        "plt.plot(epochs_range, acc, label=\"training\")\n",
        "plt.legend(loc='lower right')\n",
        "plt.title('Training Accuracy')\n",
        "\n",
        "plt.subplot(1, 2, 2)\n",
        "plt.plot(epochs_range, loss, label=\"training\")\n",
        "plt.legend(loc='lower right')\n",
        "plt.title('Training Loss')"
      ],
      "metadata": {
        "colab": {
          "base_uri": "https://localhost:8080/",
          "height": 300
        },
        "id": "h3yBMGqLsDaO",
        "outputId": "3273b9cd-fcd4-49ff-ca1c-94bb5f2d4327"
      },
      "execution_count": null,
      "outputs": [
        {
          "output_type": "execute_result",
          "data": {
            "text/plain": [
              "Text(0.5, 1.0, 'Training Loss')"
            ]
          },
          "metadata": {},
          "execution_count": 57
        },
        {
          "output_type": "display_data",
          "data": {
            "image/png": "[encoded data removed]",
            "text/plain": [
              "<Figure size 864x288 with 2 Axes>"
            ]
          },
          "metadata": {
            "needs_background": "light"
          }
        }
      ]
    },
    {
      "cell_type": "markdown",
      "metadata": {
        "id": "UtuprcLiHKeD"
      },
      "source": [
        "## Fonctions d'encodage et décodage du texte"
      ]
    },
    {
      "cell_type": "markdown",
      "metadata": {
        "id": "8AEQYjQxMEEI"
      },
      "source": [
        "Fonction permettant de séparer une chaîne de caractères en plusieurs sous chaînes pour chacun des mots et ponctuations\n",
        "\n",
        "<font color=\"lightgreen\">\n",
        "Exemple:\n",
        "clean_text(\"comment ça va?\") = ['comment', 'ça', 'va', '?']\n"
      ]
    },
    {
      "cell_type": "code",
      "execution_count": null,
      "metadata": {
        "id": "Kon1dRg0pWD9"
      },
      "outputs": [],
      "source": [
        "def clean_text(text): \n",
        "  tokens = nltk.word_tokenize(text)\n",
        "  tokens = [lemmatizer.lemmatize(word) for word in tokens]\n",
        "  return tokens"
      ]
    },
    {
      "cell_type": "markdown",
      "metadata": {
        "id": "T9MWReZQMaok"
      },
      "source": [
        "Fonction permettant l'encodage d'une chaîne de caractère pour traitement par le réseau de neurones\n",
        "Précisément : met des 1 aux indices où un mot de la liste de référence (liste words) est repéré\n",
        "\n",
        "<font color=\"lightgreen\">\n",
        "Exemple:\n",
        "bag_of_words(\"comment ça va?\", words) = array([0, 0, 0, 0, 0, 0, 0, 0, 0, 1, 0, 0, 0, 0, 0, 0, 0, 0, 0, 0, 0, 0,\n",
        "                                              0, 0, 0, 0, 0, 0, 0, 0, 0, 0, 0, 0, 0, 0, 0, 0, 0, 0, 0, 0, 0, 0,\n",
        "                                               0, 0, 0, 0, 0, 0, 1])\n",
        "Les mots \"comment\" et \"ça\" ont été reconnus dans l'exemple"
      ]
    },
    {
      "cell_type": "code",
      "execution_count": null,
      "metadata": {
        "id": "PuO2GGhPMXzH"
      },
      "outputs": [],
      "source": [
        "def bag_of_words(text, vocab): \n",
        "  tokens = clean_text(text)\n",
        "  bow = [0] * len(vocab)\n",
        "  for w in tokens: \n",
        "    for idx, word in enumerate(vocab):\n",
        "      if word == w: \n",
        "        bow[idx] = 1\n",
        "  return np.array(bow)"
      ]
    },
    {
      "cell_type": "markdown",
      "metadata": {
        "id": "Ku95JmlsNIaV"
      },
      "source": [
        "Fonction permettant de prédire la classe (le tag dans le dictionnaire) du message envoyé par l'utilisateur\n",
        "\n",
        "<font color=\"lightgreen\">\n",
        "Exemple: pred_class(\"comment ça va?\", words, classes) = ['greeting']"
      ]
    },
    {
      "cell_type": "code",
      "execution_count": null,
      "metadata": {
        "id": "bHsBgzxkMqmK"
      },
      "outputs": [],
      "source": [
        "def pred_class(text, vocab, labels): \n",
        "  bow = bag_of_words(text, vocab)\n",
        "  result = model.predict(np.array([bow]))[0] #renvoi un array de 6 avec \n",
        "  thresh = 0.2\n",
        "  y_pred = [[idx, res] for idx, res in enumerate(result) if res > thresh] #choisit le max des probas si supérieur à 0.2\n",
        "  y_pred.sort(key=lambda x: x[1], reverse=True)\n",
        "  return_list = []\n",
        "  for r in y_pred:\n",
        "    return_list.append(labels[r[0]])\n",
        "  return return_list"
      ]
    },
    {
      "cell_type": "markdown",
      "metadata": {
        "id": "Y8hMXNI0Nt77"
      },
      "source": [
        "Fonction permettant d'obtenir une réponse au message de l'utilisateur en choisissant de façon aléatoire une réponse qui coîncide dans le dictionnaire.\n",
        "\n",
        "<font color=\"lightgreen\">\n",
        "Exemple:\n",
        "get_response(['greeting'], data) = 'Salutations!'"
      ]
    },
    {
      "cell_type": "code",
      "execution_count": null,
      "metadata": {
        "id": "Fx2yXdQrMsL2"
      },
      "outputs": [],
      "source": [
        "def get_response(intents_list, intents_json): \n",
        "  tag = intents_list[0]\n",
        "  list_of_intents = intents_json[\"intents\"]\n",
        "  for i in list_of_intents: \n",
        "    if i[\"tag\"] == tag:\n",
        "      result = random.choice(i[\"responses\"])\n",
        "      break\n",
        "  return result"
      ]
    },
    {
      "cell_type": "markdown",
      "metadata": {
        "id": "B8M017OkHTI5"
      },
      "source": [
        "## Test du chatbot"
      ]
    },
    {
      "cell_type": "code",
      "execution_count": null,
      "metadata": {
        "id": "VCB8fmNzpcwM"
      },
      "outputs": [],
      "source": [
        "# lancement du chatbot\n",
        "while True:\n",
        "    message = input(\"\")\n",
        "    intents = pred_class(message, words, classes)\n",
        "    result = get_response(intents, data)\n",
        "    print(result)"
      ]
    },
    {
      "cell_type": "code",
      "execution_count": null,
      "metadata": {
        "id": "H5KzH25Cpfpb"
      },
      "outputs": [],
      "source": [
        "model_file_name = 'chatbot'\n",
        "model.save(model_file_name + '.h5')"
      ]
    },
    {
      "cell_type": "code",
      "execution_count": null,
      "metadata": {
        "id": "eOFECPrQ1_hc"
      },
      "outputs": [],
      "source": [
        ""
      ]
    }
  ],
  "metadata": {
    "colab": {
      "collapsed_sections": [],
      "name": "Chatbot_Tensorflow.ipynb",
      "provenance": []
    },
    "kernelspec": {
      "display_name": "Python 3",
      "name": "python3"
    },
    "language_info": {
      "name": "python"
    }
  },
  "nbformat": 4,
  "nbformat_minor": 0
}